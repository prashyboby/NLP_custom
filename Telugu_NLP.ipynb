{
 "cells": [
  {
   "cell_type": "code",
   "execution_count": 1,
   "metadata": {},
   "outputs": [],
   "source": [
    "import stanza"
   ]
  },
  {
   "cell_type": "code",
   "execution_count": 2,
   "metadata": {},
   "outputs": [
    {
     "name": "stderr",
     "output_type": "stream",
     "text": [
      "Downloading https://raw.githubusercontent.com/stanfordnlp/stanza-resources/master/resources_1.0.0.json: 116kB [00:00, 8.55MB/s]                    \n",
      "2020-03-29 22:49:02 INFO: Downloading default packages for language: te (Telugu)...\n",
      "Downloading http://nlp.stanford.edu/software/stanza/1.0.0/te/default.zip: 100%|██████████| 399M/399M [02:24<00:00, 2.76MB/s] \n",
      "2020-03-29 22:51:35 INFO: Finished downloading models and saved to /Users/prasanthchakka/stanza_resources.\n",
      "2020-03-29 22:51:35 INFO: Loading these models for language: te (Telugu):\n",
      "=======================\n",
      "| Processor | Package |\n",
      "-----------------------\n",
      "| tokenize  | mtg     |\n",
      "| pos       | mtg     |\n",
      "| lemma     | mtg     |\n",
      "| depparse  | mtg     |\n",
      "=======================\n",
      "\n",
      "2020-03-29 22:51:35 INFO: Use device: cpu\n",
      "2020-03-29 22:51:35 INFO: Loading: tokenize\n",
      "2020-03-29 22:51:35 INFO: Loading: pos\n",
      "2020-03-29 22:51:38 INFO: Loading: lemma\n",
      "2020-03-29 22:51:38 INFO: Loading: depparse\n",
      "2020-03-29 22:51:40 INFO: Done loading processors!\n"
     ]
    }
   ],
   "source": [
    "stanza.download('te')\n",
    "nlp = stanza.Pipeline('te')"
   ]
  },
  {
   "cell_type": "code",
   "execution_count": 3,
   "metadata": {},
   "outputs": [],
   "source": [
    "my_text = nlp(\"ఇంతకన్న మంచి పోలికేది నాకు తట్టలేదు గానీ అమ్ము ఈ లవ్వనేది బబులు గమ్ము అంటుకున్నాదంటే పోదు నమ్ము ముందు నుంచి అందరన్నమాటే గానీ మళ్లీ అంటున్నానే అమ్ము ఇది చెప్పకుండా వచ్చే తుమ్ము ప్రేమనాపలేవు నన్ను నమ్ము ఎట్టాగా అనే ఎదురు చూపుకి తగినట్టుగా నువ్వు బదులు చెబితివే ఓరి దేవుడా ఇదేందనేంత లోపటే పిల్లడా అంట దగ్గరై నన్ను చేరదీస్తివే బుట్టబొమ్మా బుట్టబొమ్మా నన్ను సుట్టుకుంటివే జిందగీకే అట్టబొమ్మై జంట కట్టుకుంటివే మల్టీప్లెక్సులోని ఆడియన్సులాగా మౌనంగున్నాగానీ అమ్ము లోన దందనక జరిగిందే నమ్ము దిమ్మ తిరిగినాదే మైండు సిమ్ రాజుల కాలం కాదు రథము గుర్రం లేవు అద్దం ముందర నాతో నేనే యుద్ధం చేస్తాంటే గాజుల చేతులు జాపి దగ్గరకొచ్చిన నువ్వు చెంపల్లో చిటికేసి చక్కరవర్తిని చేసావే చిన్నగా సినుకు తుంపరడిగితే కుండపోతగా తుఫాను తెస్తివే మాటగా ఓ మల్లెపూవునడిగితే మూటగా పూలతోటగా పైనొచ్చి పడితివే బుట్టబొమ్మా బుట్టబొమ్మా నన్ను సుట్టుకుంటివే జిందగీకే అట్టబొమ్మై జంట కట్టుకుంటివే వేలి నిండా నన్ను తీసి బొట్టు పెట్టూకుంటివే కాలికింది పువ్వు నేను నెత్తినెట్టూకుంటివే ఇంతకన్న మంచి పోలికేది నాకు తట్టలేదు గానీ అమ్ము ఈ లవ్వనేది బబులు గమ్ము అంటుకున్నాదంటే పోదు నమ్ముముందు నుంచి అందరన్నమాటే గానీ మళ్లీ అంటున్నానే అమ్ము ఇది చెప్పకుండా వచ్చే తుమ్ము ప్రేమనాపలేవు నన్ను నమ్ము\")\n"
   ]
  },
  {
   "cell_type": "code",
   "execution_count": 4,
   "metadata": {},
   "outputs": [
    {
     "name": "stdout",
     "output_type": "stream",
     "text": [
      "ఇంతకన్న None ADV\n",
      "మంచి మంచి ADJ\n",
      "పోలికేది None VERB\n",
      "నాకు నాకు PRON\n",
      "తట్టలేదు None VERB\n",
      "గానీ None SCONJ\n",
      "అమ్ము None NOUN\n",
      "ఈ ఈ DET\n",
      "లవ్వనేది None VERB\n",
      "బబులు None NOUN\n",
      "గమ్ము None ADV\n",
      "అంటుకున్నాదంటే None VERB\n",
      "పోదు None VERB\n",
      "నమ్ము None PRON\n",
      "ముందు ముందు ADV\n",
      "నుంచి నుంచి ADP\n",
      "అందరన్నమాటే None VERB\n",
      "గానీ None CCONJ\n",
      "మళ్లీ None NOUN\n",
      "అంటున్నానే None PUNCT\n",
      "అమ్ము None NOUN\n",
      "ఇది ఇది PRON\n",
      "చెప్పకుండా None VERB\n",
      "వచ్చే వచ్చే VERB\n",
      "తుమ్ము None VERB\n",
      "ప్రేమనాపలేవు None VERB\n",
      "నన్ను నన్ను PRON\n",
      "నమ్ము None ADV\n",
      "ఎట్టాగా None ADV\n",
      "అనే అనే SCONJ\n",
      "ఎదురు None NOUN\n",
      "చూపుకి None VERB\n",
      "తగినట్టుగా None VERB\n",
      "నువ్వు నువ్వు PRON\n",
      "బదులు None NOUN\n",
      "చెబితివే None VERB\n",
      "ఓరి ఓరి PART\n",
      "దేవుడా దేవుడా NOUN\n",
      "ఇదేందనేంత None PUNCT\n",
      "లోపటే None NOUN\n",
      "పిల్లడా None NOUN\n",
      "అంట None ADV\n",
      "దగ్గరై None NOUN\n",
      "నన్ను నన్ను PRON\n",
      "చేరదీస్తివే None VERB\n",
      "బుట్టబొమ్మా None VERB\n",
      "బుట్టబొమ్మా None VERB\n",
      "నన్ను నన్ను PRON\n",
      "సుట్టుకుంటివే None VERB\n",
      "జిందగీకే None VERB\n",
      "అట్టబొమ్మై None NOUN\n",
      "జంట None CCONJ\n",
      "కట్టుకుంటివే None VERB\n",
      "మల్టీప్లెక్సులోని None NOUN\n",
      "ఆడియన్సులాగా None ADV\n",
      "మౌనంగున్నాగానీ None VERB\n",
      "అమ్ము None NOUN\n",
      "లోన None NOUN\n",
      "దందనక None NOUN\n",
      "జరిగిందే None VERB\n",
      "నమ్ము None PUNCT\n",
      "దిమ్మ None NOUN\n",
      "తిరిగినాదే None VERB\n",
      "మైండు None PUNCT\n",
      "సిమ్ None PRON\n",
      "రాజుల None NOUN\n",
      "కాలం కాలం NOUN\n",
      "కాదు కాదు VERB\n",
      "రథము None PROPN\n",
      "గుర్రం గుర్రం NOUN\n",
      "లేవు లేవు VERB\n",
      "అద్దం None NOUN\n",
      "ముందర None NOUN\n",
      "నాతో నాతో PRON\n",
      "నేనే నేనే PRON\n",
      "యుద్ధం యుద్ధం NOUN\n",
      "చేస్తాంటే None VERB\n",
      "గాజుల None NOUN\n",
      "చేతులు None NOUN\n",
      "జాపి None VERB\n",
      "దగ్గరకొచ్చిన None NOUN\n",
      "నువ్వు నువ్వు PRON\n",
      "చెంపల్లో None NOUN\n",
      "చిటికేసి None VERB\n",
      "చక్కరవర్తిని None VERB\n",
      "చేసావే None VERB\n",
      "చిన్నగా None NOUN\n",
      "సినుకు None NOUN\n",
      "తుంపరడిగితే None VERB\n",
      "కుండపోతగా None VERB\n",
      "తుఫాను None NOUN\n",
      "తెస్తివే None VERB\n",
      "మాటగా None ADV\n",
      "ఓ None PRON\n",
      "మల్లెపూవునడిగితే None NOUN\n",
      "మూటగా None ADV\n",
      "పూలతోటగా None ADV\n",
      "పైనొచ్చి None NOUN\n",
      "పడితివే None NOUN\n",
      "బుట్టబొమ్మా None VERB\n",
      "బుట్టబొమ్మా None VERB\n",
      "నన్ను నన్ను PRON\n",
      "సుట్టుకుంటివే None VERB\n",
      "జిందగీకే None VERB\n",
      "అట్టబొమ్మై None NOUN\n",
      "జంట None CCONJ\n",
      "కట్టుకుంటివే None VERB\n",
      "వేలి None NOUN\n",
      "నిండా నిండా NOUN\n",
      "నన్ను నన్ను PRON\n",
      "తీసి None VERB\n",
      "బొట్టు None NOUN\n",
      "పెట్టూకుంటివే None VERB\n",
      "కాలికింది None VERB\n",
      "పువ్వు None NOUN\n",
      "నేను నేను PRON\n",
      "నెత్తినెట్టూకుంటివే None VERB\n",
      "ఇంతకన్న None ADV\n",
      "మంచి మంచి ADJ\n",
      "పోలికేది None VERB\n",
      "నాకు నాకు PRON\n",
      "తట్టలేదు None VERB\n",
      "గానీ None CCONJ\n",
      "అమ్ము None NOUN\n",
      "ఈ ఈ DET\n",
      "లవ్వనేది None VERB\n",
      "బబులు None NOUN\n",
      "గమ్ము None ADV\n",
      "అంటుకున్నాదంటే None VERB\n",
      "పోదు None VERB\n",
      "నమ్ముముందు None VERB\n",
      "నుంచి నుంచి ADP\n",
      "అందరన్నమాటే None NOUN\n",
      "గానీ None CCONJ\n",
      "మళ్లీ None NOUN\n",
      "అంటున్నానే None PUNCT\n",
      "అమ్ము None NOUN\n",
      "ఇది ఇది PRON\n",
      "చెప్పకుండా None VERB\n",
      "వచ్చే వచ్చే VERB\n",
      "తుమ్ము None VERB\n",
      "ప్రేమనాపలేవు None VERB\n",
      "నన్ను నన్ను PRON\n",
      "నమ్ము None PUNCT\n"
     ]
    }
   ],
   "source": [
    "for sentence in my_text.sentences:\n",
    "    for word in sentence.words:\n",
    "        print(word.text, word.lemma, word.pos)"
   ]
  },
  {
   "cell_type": "code",
   "execution_count": 25,
   "metadata": {},
   "outputs": [],
   "source": [
    "def lexical_diversity(text):\n",
    "    print(len(set(text.text.split())) / len(text.text.split()))"
   ]
  },
  {
   "cell_type": "code",
   "execution_count": 26,
   "metadata": {},
   "outputs": [
    {
     "name": "stdout",
     "output_type": "stream",
     "text": [
      "0.6944444444444444\n"
     ]
    }
   ],
   "source": [
    "lexical_diversity(my_text)"
   ]
  },
  {
   "cell_type": "code",
   "execution_count": null,
   "metadata": {},
   "outputs": [],
   "source": []
  }
 ],
 "metadata": {
  "kernelspec": {
   "display_name": "Python 3",
   "language": "python",
   "name": "python3"
  },
  "language_info": {
   "codemirror_mode": {
    "name": "ipython",
    "version": 3
   },
   "file_extension": ".py",
   "mimetype": "text/x-python",
   "name": "python",
   "nbconvert_exporter": "python",
   "pygments_lexer": "ipython3",
   "version": "3.7.4"
  }
 },
 "nbformat": 4,
 "nbformat_minor": 2
}
