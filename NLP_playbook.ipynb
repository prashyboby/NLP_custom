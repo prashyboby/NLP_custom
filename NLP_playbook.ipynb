{
 "cells": [
  {
   "cell_type": "code",
   "execution_count": 16,
   "metadata": {},
   "outputs": [],
   "source": [
    "import nltk\n",
    "from nltk.stem import PorterStemmer, LancasterStemmer, RegexpStemmer, WordNetLemmatizer\n",
    "from nltk.book import *\n",
    "#nltk.download()\n"
   ]
  },
  {
   "cell_type": "code",
   "execution_count": 43,
   "metadata": {},
   "outputs": [
    {
     "data": {
      "text/plain": [
       "nltk.text.Text"
      ]
     },
     "execution_count": 43,
     "metadata": {},
     "output_type": "execute_result"
    }
   ],
   "source": [
    "type(text1)"
   ]
  },
  {
   "cell_type": "code",
   "execution_count": 23,
   "metadata": {},
   "outputs": [],
   "source": [
    "def lexical_diversity(text):\n",
    "    print(len(set(text)) / len(text))"
   ]
  },
  {
   "cell_type": "code",
   "execution_count": 36,
   "metadata": {},
   "outputs": [
    {
     "name": "stdout",
     "output_type": "stream",
     "text": [
      "0.07406285585022564\n",
      "0.04826383002768831\n",
      "0.06230453042623537\n",
      "0.06617622515804722\n",
      "0.13477005109975562\n",
      "0.1276595744680851\n",
      "0.12324685128531129\n",
      "0.22765564002465585\n",
      "0.0983485761345412\n"
     ]
    }
   ],
   "source": [
    "lexical_diversity(text1)\n",
    "lexical_diversity(text2)\n",
    "lexical_diversity(text3)\n",
    "lexical_diversity(text4)\n",
    "lexical_diversity(text5)\n",
    "lexical_diversity(text6)\n",
    "lexical_diversity(text7)\n",
    "lexical_diversity(text8)\n",
    "lexical_diversity(text9)"
   ]
  },
  {
   "cell_type": "code",
   "execution_count": 41,
   "metadata": {},
   "outputs": [],
   "source": [
    "bella = \"Una mattina mi sono alzato O bella ciao, bella ciao, bella ciao, ciao, ciao Una mattina mi sono azalto E ho trovato l'invasor O partigiano, portami via O bella ciao, bella ciao, bella ciao, ciao, ciao O partigiano, portami via Ché mi sento di morir E se io muoio da partigiano O bella ciao, bella ciao, bella ciao, ciao, ciao E se io muoio da partigiano Tu mi devi seppellir E seppellire lassù in montagna O bella ciao, bella ciao, bella ciao, ciao, ciao E seppellire lassù in montagna Sotto l'ombra di un bel fior Tutte le genti che passeranno O bella ciao, bella ciao, bella ciao\""
   ]
  },
  {
   "cell_type": "code",
   "execution_count": 42,
   "metadata": {},
   "outputs": [
    {
     "name": "stdout",
     "output_type": "stream",
     "text": [
      "0.05335628227194492\n"
     ]
    }
   ],
   "source": [
    "lexical_diversity(bella)"
   ]
  },
  {
   "cell_type": "code",
   "execution_count": null,
   "metadata": {},
   "outputs": [],
   "source": []
  }
 ],
 "metadata": {
  "kernelspec": {
   "display_name": "Python 3",
   "language": "python",
   "name": "python3"
  },
  "language_info": {
   "codemirror_mode": {
    "name": "ipython",
    "version": 3
   },
   "file_extension": ".py",
   "mimetype": "text/x-python",
   "name": "python",
   "nbconvert_exporter": "python",
   "pygments_lexer": "ipython3",
   "version": "3.7.4"
  }
 },
 "nbformat": 4,
 "nbformat_minor": 2
}
